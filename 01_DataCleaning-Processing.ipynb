{
 "cells": [
  {
   "cell_type": "markdown",
   "metadata": {},
   "source": [
    "# Data Cleaning & Processing\n",
    "Beschreibt /dokumentiert alle Anpassungen die ihr an den Daten vornehmt. Es ist durchaus\n",
    "möglich, dass ihr für verschiedene Techniken auch unterschiedliche Anpassungen an den Daten\n",
    "vornehmt (dann auch jeweils kurz dokumentieren was ihr gemacht habt)."
   ]
  },
  {
   "cell_type": "markdown",
   "metadata": {},
   "source": []
  },
  {
   "cell_type": "code",
   "execution_count": null,
   "metadata": {},
   "outputs": [],
   "source": []
  }
 ],
 "metadata": {
  "language_info": {
   "name": "python"
  },
  "orig_nbformat": 4
 },
 "nbformat": 4,
 "nbformat_minor": 2
}
