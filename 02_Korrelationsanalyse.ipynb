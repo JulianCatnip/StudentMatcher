{
 "cells": [
  {
   "cell_type": "markdown",
   "metadata": {},
   "source": [
    "# Korrelationsanalyse\n",
    "\n",
    "Was ergibt eine Korrelationsanalyse der Fragebogen-Daten? Gibt es Fragen, die so stark\n",
    "korrelieren, dass wir sie uns hätten sparen können? Greift einige (für euch) interessante\n",
    "Korrelationen heraus, die eurer Meinung nach auf interessante Zusammenhänge hindeuten\n",
    "könnten (\"Personen die so sind ... sind oft auch so/ ... sind oft nicht so\"). Stellt einige dieser von\n",
    "euch ausgewählten Feature-Paare auch noch einmal graphisch dar (z.B. über einen Scatter-Plot).\n",
    "\n",
    "***"
   ]
  },
  {
   "cell_type": "code",
   "execution_count": null,
   "metadata": {},
   "outputs": [],
   "source": []
  },
  {
   "cell_type": "markdown",
   "metadata": {},
   "source": []
  }
 ],
 "metadata": {
  "language_info": {
   "name": "python"
  },
  "orig_nbformat": 4
 },
 "nbformat": 4,
 "nbformat_minor": 2
}
