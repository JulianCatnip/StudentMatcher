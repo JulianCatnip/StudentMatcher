{
 "cells": [
  {
   "cell_type": "markdown",
   "metadata": {},
   "source": [
    "# Cluster-Analyse\n",
    "\n",
    "Wendet verschiedene Cluster-Algorithmen auf die Umfragedaten an mit dem Ziel zum Schluss\n",
    "\"sinnvolle\" (d.h. in euren Augen sinnvolle) Cluster zu bilden. Was für Cluster ergeben sich daraus\n",
    "und wie wurden die Teilnehmer*innen eingeteilt? Wie musstet ihr die Daten dazu bearbeiten?\n",
    "\n",
    "***"
   ]
  },
  {
   "cell_type": "code",
   "execution_count": null,
   "metadata": {},
   "outputs": [],
   "source": []
  }
 ],
 "metadata": {
  "language_info": {
   "name": "python"
  },
  "orig_nbformat": 4
 },
 "nbformat": 4,
 "nbformat_minor": 2
}
