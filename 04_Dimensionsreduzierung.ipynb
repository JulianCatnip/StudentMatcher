{
 "cells": [
  {
   "cell_type": "markdown",
   "metadata": {},
   "source": [
    "# Dimensionsreduzierung\n",
    "\n",
    "Nutzt verschiedene Techniken der Dimensionsreduzierung um alle Teilnehmer*innen der\n",
    "Umfrage in einem 2D-Scatterplot darzustellen. Diskutiert das Resultat, auch im Bezug auf die\n",
    "Cluster-Analyse. Färbt die Punkte nach den zuvor berechneten Clustern oder nach bestimmten\n",
    "Merkmalen (Alter, Antwort auf spezielle Fragen...) ein und diskutiert ob die\n",
    "Dimensionsreduzierung erfolgreich/nützlich war.\n",
    "\n",
    "***"
   ]
  },
  {
   "cell_type": "code",
   "execution_count": null,
   "metadata": {},
   "outputs": [],
   "source": []
  }
 ],
 "metadata": {
  "language_info": {
   "name": "python"
  },
  "orig_nbformat": 4
 },
 "nbformat": 4,
 "nbformat_minor": 2
}
