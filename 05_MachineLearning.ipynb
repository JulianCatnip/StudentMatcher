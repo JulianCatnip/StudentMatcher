{
 "cells": [
  {
   "cell_type": "markdown",
   "metadata": {},
   "source": [
    "# MachineLearning\n",
    "\n",
    "Klassifikationsproblem\n",
    "Extrovertiert oder Introvertiert\n",
    "Teilnehmer anhand ihrer Angaben in zwei Gruppen einteilen\n",
    "Introvertiert: 1-2, Extrovertiert:3-5\n",
    "Fragebogen: 1: sehr introvertiert, 5: sehr extrovertiert\n",
    "\n",
    "***"
   ]
  },
  {
   "cell_type": "code",
   "execution_count": null,
   "metadata": {},
   "outputs": [],
   "source": []
  }
 ],
 "metadata": {
  "language_info": {
   "name": "python"
  },
  "orig_nbformat": 4
 },
 "nbformat": 4,
 "nbformat_minor": 2
}
