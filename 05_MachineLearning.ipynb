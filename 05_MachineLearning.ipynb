{
 "cells": [
  {
   "cell_type": "markdown",
   "metadata": {},
   "source": [
    "# MachineLearning\n",
    "\n",
    "Klassifikationsproblem\n",
    "\n",
    "Extrovertiert oder Introvertiert\n",
    "\n",
    "Teilnehmer anhand ihrer Angaben in zwei Gruppen einteilen\n",
    "\n",
    "Introvertiert: 1-2, Extrovertiert:3-5\n",
    "\n", 
    "Fragebogen: 1: sehr introvertiert, 5: sehr extrovertiert\n",
    "\n",
    "***"
   ]
  },
  {
   "cell_type": "code",
   "execution_count": null,
   "metadata": {},
   "outputs": [],
   "source": []
  }
 ],
 "metadata": {
  "language_info": {
   "name": "python"
  },
  "orig_nbformat": 4
 },
 "nbformat": 4,
 "nbformat_minor": 2
}
