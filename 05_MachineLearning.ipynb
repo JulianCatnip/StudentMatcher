{
 "cells": [
  {
   "cell_type": "markdown",
   "metadata": {},
   "source": [
    "# MachineLearning\n",
    "\n",
    "Klassifikationsproblem\n",
    "\n",
    "Extrovertiert oder Introvertiert\n",
    "\n",
    "Teilnehmer anhand ihrer Angaben in zwei Gruppen einteilen\n",
    "\n",
    "Introvertiert: 1-2, Extrovertiert:3-5\n",
    "\n",
    "Fragebogen: 1: sehr introvertiert, 5: sehr extrovertiert\n",
    "\n",
    "***"
   ]
  },
  {
   "cell_type": "code",
   "execution_count": null,
   "metadata": {},
   "outputs": [],
   "source": [
    "import numpy as np  # linear algebra\n",
    "import pandas as pd  # data processing, CSV file I/O (e.g. pd.read_csv)\n",
    "import seaborn as sb  # data visualization library  \n",
    "import matplotlib.pyplot as plt  # data visualization library "
   ]
  },
  {
   "cell_type": "code",
   "execution_count": null,
   "metadata": {},
   "outputs": [],
   "source": [
    "filename = \"./data/survery_data_annonymized_230626_clean.csv\"\n",
    "\n",
    "data = pd.read_csv(filename)"
   ]
  },
  {
   "cell_type": "code",
   "execution_count": null,
   "metadata": {},
   "outputs": [],
   "source": [
    "to_drop = [\"Unnamed: 0\"]\n",
    "data = data.drop(to_drop, axis=1)"
   ]
  },
  {
   "cell_type": "code",
   "execution_count": null,
   "metadata": {},
   "outputs": [],
   "source": [
    "data[\"Introvertiert_Extrovertiert\"]"
   ]
  },
  {
   "cell_type": "code",
   "execution_count": null,
   "metadata": {},
   "outputs": [],
   "source": [
    "INFP_ESFJ = []\n",
    "\n",
    "for i in data[\"Introvertiert_Extrovertiert\"]:\n",
    "    if(i == 1 or i == 2):\n",
    "        INFP_ESFJ.append(\"Introvertiert\")\n",
    "    else:\n",
    "        INFP_ESFJ.append(\"Extrovertiert\")\n",
    "\n",
    "data[\"Introvertiert_oder_Extrovertiert\"] = INFP_ESFJ"
   ]
  },
  {
   "cell_type": "code",
   "execution_count": null,
   "metadata": {},
   "outputs": [],
   "source": [
    "data.value_counts(\"Introvertiert_oder_Extrovertiert\").plot(kind=\"pie\")"
   ]
  },
  {
   "cell_type": "markdown",
   "metadata": {},
   "source": [
    "## Klassifikationsproblem\n",
    "\n",
    "Feature: Introvertiert oder Extrovertiert\n",
    "\n",
    "Teilnehmer zuordnen, ob sie extroviertier oder introvertiert sind"
   ]
  },
  {
   "cell_type": "code",
   "execution_count": null,
   "metadata": {},
   "outputs": [],
   "source": [
    "x = data.drop([\"Introvertiert_oder_Extrovertiert\",\"Studiengang\", \"Timestamp\", \"Pseudonym\",\"Sportarten_Gesamt\",\"Fav_Sportart\",\n",
    "               \"Fav_Essen\",\"Fav_Musik\"], axis=1) #nur Feature mit Zahlenwerten verwenden\n",
    "y = data[\"Introvertiert_oder_Extrovertiert\"]\n",
    "\n",
    "x.shape, y.shape "
   ]
  },
  {
   "cell_type": "code",
   "execution_count": null,
   "metadata": {},
   "outputs": [],
   "source": [
    "x.head()"
   ]
  },
  {
   "cell_type": "code",
   "execution_count": null,
   "metadata": {},
   "outputs": [],
   "source": [
    "from sklearn.model_selection import train_test_split\n",
    "\n",
    "# Train-test split\n",
    "x_train, x_test, y_train, y_test = train_test_split(x, y, test_size=0.3, random_state=0) #testsize etwas vergrößert,wegen den wenigen Daten\n",
    "                                                                                         #darf man das?\n",
    "\n",
    "x_train.shape, x_test.shape"
   ]
  },
  {
   "cell_type": "code",
   "execution_count": null,
   "metadata": {},
   "outputs": [],
   "source": [
    "from sklearn.preprocessing import StandardScaler\n",
    "\n",
    "# Scale\n",
    "scaler = StandardScaler().fit(x_train)\n",
    "\n",
    "X_train_scaled = pd.DataFrame(scaler.transform(x_train),\n",
    "                              columns=x.columns)\n",
    "X_test_scaled = pd.DataFrame(scaler.transform(x_test),\n",
    "                             columns=x.columns)"
   ]
  },
  {
   "cell_type": "code",
   "execution_count": null,
   "metadata": {},
   "outputs": [],
   "source": [
    "X_train_scaled.head()"
   ]
  },
  {
   "cell_type": "code",
   "execution_count": 1,
   "metadata": {},
   "outputs": [
    {
     "ename": "NameError",
     "evalue": "name 'X_train_scaled' is not defined",
     "output_type": "error",
     "traceback": [
      "\u001b[0;31m---------------------------------------------------------------------------\u001b[0m",
      "\u001b[0;31mNameError\u001b[0m                                 Traceback (most recent call last)",
      "\u001b[1;32m/Users/Laura/StudentMatcher/05_MachineLearning.ipynb Cell 14\u001b[0m in \u001b[0;36m<cell line: 4>\u001b[0;34m()\u001b[0m\n\u001b[1;32m      <a href='vscode-notebook-cell:/Users/Laura/StudentMatcher/05_MachineLearning.ipynb#X20sZmlsZQ%3D%3D?line=0'>1</a>\u001b[0m \u001b[39mfrom\u001b[39;00m \u001b[39msklearn\u001b[39;00m\u001b[39m.\u001b[39;00m\u001b[39mneighbors\u001b[39;00m \u001b[39mimport\u001b[39;00m KNeighborsClassifier\n\u001b[1;32m      <a href='vscode-notebook-cell:/Users/Laura/StudentMatcher/05_MachineLearning.ipynb#X20sZmlsZQ%3D%3D?line=2'>3</a>\u001b[0m knn \u001b[39m=\u001b[39m KNeighborsClassifier(n_neighbors\u001b[39m=\u001b[39m\u001b[39m2\u001b[39m)  \u001b[39m# specify your model parameters\u001b[39;00m\n\u001b[0;32m----> <a href='vscode-notebook-cell:/Users/Laura/StudentMatcher/05_MachineLearning.ipynb#X20sZmlsZQ%3D%3D?line=3'>4</a>\u001b[0m knn\u001b[39m.\u001b[39mfit(X_train_scaled,y_train)\n",
      "\u001b[0;31mNameError\u001b[0m: name 'X_train_scaled' is not defined"
     ]
    }
   ],
   "source": [
    "from sklearn.neighbors import KNeighborsClassifier\n",
    "\n",
    "knn = KNeighborsClassifier(n_neighbors=2)  # specify your model parameters\n",
    "knn.fit(X_train_scaled,y_train)  # train the model using data and labels"
   ]
  },
  {
   "cell_type": "code",
   "execution_count": null,
   "metadata": {},
   "outputs": [],
   "source": [
    "prediction = knn.predict(X_test_scaled)\n",
    "prediction"
   ]
  },
  {
   "cell_type": "code",
   "execution_count": null,
   "metadata": {},
   "outputs": [],
   "source": [
    "from sklearn.metrics import confusion_matrix\n",
    "\n",
    "confusion_matrix(y_test, prediction)"
   ]
  },
  {
   "cell_type": "code",
   "execution_count": null,
   "metadata": {},
   "outputs": [],
   "source": [
    "knn.classes_"
   ]
  },
  {
   "cell_type": "code",
   "execution_count": null,
   "metadata": {},
   "outputs": [],
   "source": [
    "fig, ax = plt.subplots(figsize=(5, 5))\n",
    "\n",
    "sb.heatmap(confusion_matrix(y_test, prediction),\n",
    "           annot=True, cmap=\"viridis\", cbar=False,\n",
    "           xticklabels=knn.classes_,\n",
    "           yticklabels=knn.classes_)"
   ]
  },
  {
   "cell_type": "code",
   "execution_count": null,
   "metadata": {},
   "outputs": [],
   "source": [
    "from sklearn.tree import DecisionTreeClassifier\n",
    "\n",
    "tree = DecisionTreeClassifier(max_depth=3, random_state=0)\n",
    "tree.fit(x_train,y_train)"
   ]
  },
  {
   "cell_type": "code",
   "execution_count": null,
   "metadata": {},
   "outputs": [],
   "source": [
    "prediction = tree.predict(X_test_scaled)\n",
    "prediction"
   ]
  },
  {
   "cell_type": "code",
   "execution_count": null,
   "metadata": {},
   "outputs": [],
   "source": [
    "fig, ax = plt.subplots(figsize=(5, 5))\n",
    "\n",
    "sb.heatmap(confusion_matrix(y_test, prediction),\n",
    "           annot=True, cmap=\"viridis\", cbar=False,\n",
    "           xticklabels=tree.classes_,\n",
    "           yticklabels=tree.classes_)"
   ]
  },
  {
   "cell_type": "code",
   "execution_count": null,
   "metadata": {},
   "outputs": [],
   "source": [
    "x_train.columns"
   ]
  },
  {
   "cell_type": "code",
   "execution_count": null,
   "metadata": {},
   "outputs": [],
   "source": []
  }
 ],
 "metadata": {
  "kernelspec": {
   "display_name": "Python 3 (ipykernel)",
   "language": "python",
   "name": "python3"
  },
  "language_info": {
   "codemirror_mode": {
    "name": "ipython",
    "version": 3
   },
   "file_extension": ".py",
   "mimetype": "text/x-python",
   "name": "python",
   "nbconvert_exporter": "python",
   "pygments_lexer": "ipython3",
   "version": "3.9.12"
  },
  "orig_nbformat": 4
 },
 "nbformat": 4,
 "nbformat_minor": 2
}
