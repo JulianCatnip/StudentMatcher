{
 "cells": [
  {
   "cell_type": "markdown",
   "metadata": {},
   "source": [
    "# MachineLearning\n",
    "\n",
    "Klassifikationsproblem\n",
    "\n",
    "Extrovertiert oder Introvertiert\n",
    "\n",
    "Teilnehmer anhand ihrer Angaben in zwei Gruppen einteilen\n",
    "\n",
    "Introvertiert: 1-2, Extrovertiert:3-5\n",
    "\n",
    "Fragebogen: 1: sehr introvertiert, 5: sehr extrovertiert\n",
    "\n",
    "***"
   ]
  },
  {
   "cell_type": "code",
   "execution_count": 51,
   "metadata": {},
   "outputs": [],
   "source": [
    "import numpy as np  # linear algebra\n",
    "import pandas as pd  # data processing, CSV file I/O (e.g. pd.read_csv)\n",
    "import seaborn as sb  # data visualization library  \n",
    "import matplotlib.pyplot as plt  # data visualization library "
   ]
  },
  {
   "cell_type": "code",
   "execution_count": 52,
   "metadata": {},
   "outputs": [],
   "source": [
    "filename = \"./data/survery_data_annonymized_230626_clean.csv\"\n",
    "data = pd.read_csv(filename)"
   ]
  },
  {
   "cell_type": "code",
   "execution_count": 53,
   "metadata": {},
   "outputs": [
    {
     "data": {
      "text/plain": [
       "0     3\n",
       "1     3\n",
       "2     4\n",
       "3     3\n",
       "4     3\n",
       "     ..\n",
       "57    2\n",
       "58    3\n",
       "59    3\n",
       "60    3\n",
       "61    2\n",
       "Name: Introvertiert_Extrovertiert, Length: 62, dtype: int64"
      ]
     },
     "execution_count": 53,
     "metadata": {},
     "output_type": "execute_result"
    }
   ],
   "source": [
    "data[\"Introvertiert_Extrovertiert\"]"
   ]
  },
  {
   "cell_type": "code",
   "execution_count": 54,
   "metadata": {},
   "outputs": [],
   "source": [
    "INFP_ESFJ = []\n",
    "\n",
    "for i in data[\"Introvertiert_Extrovertiert\"]:\n",
    "    if(i == 1 or i == 2):\n",
    "        INFP_ESFJ.append(\"Introvertiert\")\n",
    "    else:\n",
    "        INFP_ESFJ.append(\"Extrovertiert\")\n",
    "\n",
    "data[\"Introvertiert_oder_Extrovertiert\"] = INFP_ESFJ"
   ]
  },
  {
   "cell_type": "code",
   "execution_count": 55,
   "metadata": {},
   "outputs": [
    {
     "data": {
      "text/plain": [
       "<AxesSubplot:ylabel='None'>"
      ]
     },
     "execution_count": 55,
     "metadata": {},
     "output_type": "execute_result"
    },
    {
     "data": {
      "image/png": "[encoded data removed]",
      "text/plain": [
       "<Figure size 640x480 with 1 Axes>"
      ]
     },
     "metadata": {},
     "output_type": "display_data"
    }
   ],
   "source": [
    "data.value_counts(\"Introvertiert_oder_Extrovertiert\").plot(kind=\"pie\")"
   ]
  },
  {
   "cell_type": "markdown",
   "metadata": {},
   "source": [
    "## Klassifikationsproblem\n",
    "\n",
    "Feature: Introvertiert oder Extrovertiert\n",
    "\n",
    "Teilnehmer zuordnen, ob sie extroviertier oder introvertiert sind"
   ]
  },
  {
   "cell_type": "code",
   "execution_count": 56,
   "metadata": {},
   "outputs": [
    {
     "data": {
      "text/plain": [
       "((62, 59), (62,))"
      ]
     },
     "execution_count": 56,
     "metadata": {},
     "output_type": "execute_result"
    }
   ],
   "source": [
    "x = data.select_dtypes(include='number') # Nur Feature mit Zahlenwerten verwenden\n",
    "y = data[\"Introvertiert_oder_Extrovertiert\"]\n",
    "\n",
    "x.shape, y.shape "
   ]
  },
  {
   "cell_type": "code",
   "execution_count": 57,
   "metadata": {},
   "outputs": [
    {
     "data": {
      "text/html": [
       "<div>\n",
       "<style scoped>\n",
       "    .dataframe tbody tr th:only-of-type {\n",
       "        vertical-align: middle;\n",
       "    }\n",
       "\n",
       "    .dataframe tbody tr th {\n",
       "        vertical-align: top;\n",
       "    }\n",
       "\n",
       "    .dataframe thead th {\n",
       "        text-align: right;\n",
       "    }\n",
       "</style>\n",
       "<table border=\"1\" class=\"dataframe\">\n",
       "  <thead>\n",
       "    <tr style=\"text-align: right;\">\n",
       "      <th></th>\n",
       "      <th>Alter</th>\n",
       "      <th>Sportlichkeit</th>\n",
       "      <th>Gesunde_Ernaehrung</th>\n",
       "      <th>Essen_gehen</th>\n",
       "      <th>Kochen</th>\n",
       "      <th>Feiern</th>\n",
       "      <th>Musik</th>\n",
       "      <th>Lesen</th>\n",
       "      <th>Darstellende_Kunst</th>\n",
       "      <th>Filme</th>\n",
       "      <th>...</th>\n",
       "      <th>Yoga</th>\n",
       "      <th>Kampfsport</th>\n",
       "      <th>Tanzen</th>\n",
       "      <th>Leichtathletik</th>\n",
       "      <th>Bouldern/Klettern</th>\n",
       "      <th>Schwimmen</th>\n",
       "      <th>Wassersport</th>\n",
       "      <th>Reiten</th>\n",
       "      <th>Wintersport</th>\n",
       "      <th>Rennrad/Mountainbike</th>\n",
       "    </tr>\n",
       "  </thead>\n",
       "  <tbody>\n",
       "    <tr>\n",
       "      <th>0</th>\n",
       "      <td>28</td>\n",
       "      <td>4</td>\n",
       "      <td>4</td>\n",
       "      <td>3</td>\n",
       "      <td>4</td>\n",
       "      <td>3</td>\n",
       "      <td>5</td>\n",
       "      <td>4</td>\n",
       "      <td>3</td>\n",
       "      <td>3</td>\n",
       "      <td>...</td>\n",
       "      <td>1</td>\n",
       "      <td>0</td>\n",
       "      <td>0</td>\n",
       "      <td>0</td>\n",
       "      <td>1</td>\n",
       "      <td>0</td>\n",
       "      <td>0</td>\n",
       "      <td>0</td>\n",
       "      <td>0</td>\n",
       "      <td>1</td>\n",
       "    </tr>\n",
       "    <tr>\n",
       "      <th>1</th>\n",
       "      <td>26</td>\n",
       "      <td>3</td>\n",
       "      <td>4</td>\n",
       "      <td>4</td>\n",
       "      <td>5</td>\n",
       "      <td>2</td>\n",
       "      <td>4</td>\n",
       "      <td>2</td>\n",
       "      <td>3</td>\n",
       "      <td>4</td>\n",
       "      <td>...</td>\n",
       "      <td>1</td>\n",
       "      <td>0</td>\n",
       "      <td>0</td>\n",
       "      <td>0</td>\n",
       "      <td>1</td>\n",
       "      <td>0</td>\n",
       "      <td>0</td>\n",
       "      <td>0</td>\n",
       "      <td>0</td>\n",
       "      <td>1</td>\n",
       "    </tr>\n",
       "    <tr>\n",
       "      <th>2</th>\n",
       "      <td>24</td>\n",
       "      <td>2</td>\n",
       "      <td>5</td>\n",
       "      <td>4</td>\n",
       "      <td>4</td>\n",
       "      <td>3</td>\n",
       "      <td>5</td>\n",
       "      <td>2</td>\n",
       "      <td>3</td>\n",
       "      <td>4</td>\n",
       "      <td>...</td>\n",
       "      <td>1</td>\n",
       "      <td>0</td>\n",
       "      <td>1</td>\n",
       "      <td>0</td>\n",
       "      <td>1</td>\n",
       "      <td>0</td>\n",
       "      <td>0</td>\n",
       "      <td>0</td>\n",
       "      <td>0</td>\n",
       "      <td>0</td>\n",
       "    </tr>\n",
       "    <tr>\n",
       "      <th>3</th>\n",
       "      <td>23</td>\n",
       "      <td>5</td>\n",
       "      <td>2</td>\n",
       "      <td>4</td>\n",
       "      <td>4</td>\n",
       "      <td>2</td>\n",
       "      <td>3</td>\n",
       "      <td>3</td>\n",
       "      <td>2</td>\n",
       "      <td>4</td>\n",
       "      <td>...</td>\n",
       "      <td>0</td>\n",
       "      <td>0</td>\n",
       "      <td>0</td>\n",
       "      <td>1</td>\n",
       "      <td>1</td>\n",
       "      <td>0</td>\n",
       "      <td>0</td>\n",
       "      <td>0</td>\n",
       "      <td>1</td>\n",
       "      <td>0</td>\n",
       "    </tr>\n",
       "    <tr>\n",
       "      <th>4</th>\n",
       "      <td>24</td>\n",
       "      <td>3</td>\n",
       "      <td>4</td>\n",
       "      <td>3</td>\n",
       "      <td>2</td>\n",
       "      <td>1</td>\n",
       "      <td>3</td>\n",
       "      <td>4</td>\n",
       "      <td>2</td>\n",
       "      <td>5</td>\n",
       "      <td>...</td>\n",
       "      <td>0</td>\n",
       "      <td>0</td>\n",
       "      <td>0</td>\n",
       "      <td>0</td>\n",
       "      <td>1</td>\n",
       "      <td>0</td>\n",
       "      <td>0</td>\n",
       "      <td>0</td>\n",
       "      <td>0</td>\n",
       "      <td>0</td>\n",
       "    </tr>\n",
       "  </tbody>\n",
       "</table>\n",
       "<p>5 rows × 59 columns</p>\n",
       "</div>"
      ],
      "text/plain": [
       "   Alter  Sportlichkeit  Gesunde_Ernaehrung  Essen_gehen  Kochen  Feiern  \\\n",
       "0     28              4                   4            3       4       3   \n",
       "1     26              3                   4            4       5       2   \n",
       "2     24              2                   5            4       4       3   \n",
       "3     23              5                   2            4       4       2   \n",
       "4     24              3                   4            3       2       1   \n",
       "\n",
       "   Musik  Lesen  Darstellende_Kunst  Filme  ...  Yoga  Kampfsport  Tanzen  \\\n",
       "0      5      4                   3      3  ...     1           0       0   \n",
       "1      4      2                   3      4  ...     1           0       0   \n",
       "2      5      2                   3      4  ...     1           0       1   \n",
       "3      3      3                   2      4  ...     0           0       0   \n",
       "4      3      4                   2      5  ...     0           0       0   \n",
       "\n",
       "   Leichtathletik  Bouldern/Klettern  Schwimmen  Wassersport  Reiten  \\\n",
       "0               0                  1          0            0       0   \n",
       "1               0                  1          0            0       0   \n",
       "2               0                  1          0            0       0   \n",
       "3               1                  1          0            0       0   \n",
       "4               0                  1          0            0       0   \n",
       "\n",
       "   Wintersport  Rennrad/Mountainbike  \n",
       "0            0                     1  \n",
       "1            0                     1  \n",
       "2            0                     0  \n",
       "3            1                     0  \n",
       "4            0                     0  \n",
       "\n",
       "[5 rows x 59 columns]"
      ]
     },
     "execution_count": 57,
     "metadata": {},
     "output_type": "execute_result"
    }
   ],
   "source": [
    "x.head()"
   ]
  },
  {
   "cell_type": "code",
   "execution_count": 58,
   "metadata": {},
   "outputs": [
    {
     "data": {
      "text/plain": [
       "((43, 59), (19, 59))"
      ]
     },
     "execution_count": 58,
     "metadata": {},
     "output_type": "execute_result"
    }
   ],
   "source": [
    "from sklearn.model_selection import train_test_split\n",
    "\n",
    "# Train-test split\n",
    "x_train, x_test, y_train, y_test = train_test_split(x, y, test_size=0.3, random_state=0) #testsize etwas vergrößert,wegen den wenigen Daten\n",
    "                                                                                         #darf man das?\n",
    "\n",
    "x_train.shape, x_test.shape"
   ]
  },
  {
   "cell_type": "code",
   "execution_count": 59,
   "metadata": {},
   "outputs": [],
   "source": [
    "from sklearn.preprocessing import StandardScaler\n",
    "\n",
    "# Scale\n",
    "scaler = StandardScaler().fit(x_train)\n",
    "\n",
    "X_train_scaled = pd.DataFrame(scaler.transform(x_train),\n",
    "                              columns=x.columns)\n",
    "X_test_scaled = pd.DataFrame(scaler.transform(x_test),\n",
    "                             columns=x.columns)"
   ]
  },
  {
   "cell_type": "code",
   "execution_count": 60,
   "metadata": {},
   "outputs": [
    {
     "data": {
      "text/html": [
       "<div>\n",
       "<style scoped>\n",
       "    .dataframe tbody tr th:only-of-type {\n",
       "        vertical-align: middle;\n",
       "    }\n",
       "\n",
       "    .dataframe tbody tr th {\n",
       "        vertical-align: top;\n",
       "    }\n",
       "\n",
       "    .dataframe thead th {\n",
       "        text-align: right;\n",
       "    }\n",
       "</style>\n",
       "<table border=\"1\" class=\"dataframe\">\n",
       "  <thead>\n",
       "    <tr style=\"text-align: right;\">\n",
       "      <th></th>\n",
       "      <th>Alter</th>\n",
       "      <th>Sportlichkeit</th>\n",
       "      <th>Gesunde_Ernaehrung</th>\n",
       "      <th>Essen_gehen</th>\n",
       "      <th>Kochen</th>\n",
       "      <th>Feiern</th>\n",
       "      <th>Musik</th>\n",
       "      <th>Lesen</th>\n",
       "      <th>Darstellende_Kunst</th>\n",
       "      <th>Filme</th>\n",
       "      <th>...</th>\n",
       "      <th>Yoga</th>\n",
       "      <th>Kampfsport</th>\n",
       "      <th>Tanzen</th>\n",
       "      <th>Leichtathletik</th>\n",
       "      <th>Bouldern/Klettern</th>\n",
       "      <th>Schwimmen</th>\n",
       "      <th>Wassersport</th>\n",
       "      <th>Reiten</th>\n",
       "      <th>Wintersport</th>\n",
       "      <th>Rennrad/Mountainbike</th>\n",
       "    </tr>\n",
       "  </thead>\n",
       "  <tbody>\n",
       "    <tr>\n",
       "      <th>0</th>\n",
       "      <td>-1.323585</td>\n",
       "      <td>1.591324</td>\n",
       "      <td>-0.806296</td>\n",
       "      <td>1.192840</td>\n",
       "      <td>-1.124591</td>\n",
       "      <td>-1.561532</td>\n",
       "      <td>0.026556</td>\n",
       "      <td>1.499316</td>\n",
       "      <td>1.134563</td>\n",
       "      <td>1.349109</td>\n",
       "      <td>...</td>\n",
       "      <td>-0.586302</td>\n",
       "      <td>-0.514496</td>\n",
       "      <td>1.705606</td>\n",
       "      <td>2.483277</td>\n",
       "      <td>1.519109</td>\n",
       "      <td>-0.769800</td>\n",
       "      <td>-0.220863</td>\n",
       "      <td>-0.154303</td>\n",
       "      <td>-0.273861</td>\n",
       "      <td>-0.514496</td>\n",
       "    </tr>\n",
       "    <tr>\n",
       "      <th>1</th>\n",
       "      <td>-0.307261</td>\n",
       "      <td>-1.427511</td>\n",
       "      <td>-0.806296</td>\n",
       "      <td>0.187112</td>\n",
       "      <td>0.000000</td>\n",
       "      <td>0.303631</td>\n",
       "      <td>0.026556</td>\n",
       "      <td>-0.243132</td>\n",
       "      <td>1.134563</td>\n",
       "      <td>1.349109</td>\n",
       "      <td>...</td>\n",
       "      <td>-0.586302</td>\n",
       "      <td>-0.514496</td>\n",
       "      <td>1.705606</td>\n",
       "      <td>-0.402694</td>\n",
       "      <td>-0.658281</td>\n",
       "      <td>1.299038</td>\n",
       "      <td>-0.220863</td>\n",
       "      <td>-0.154303</td>\n",
       "      <td>-0.273861</td>\n",
       "      <td>-0.514496</td>\n",
       "    </tr>\n",
       "    <tr>\n",
       "      <th>2</th>\n",
       "      <td>-1.526850</td>\n",
       "      <td>1.591324</td>\n",
       "      <td>-0.806296</td>\n",
       "      <td>0.187112</td>\n",
       "      <td>-1.124591</td>\n",
       "      <td>1.236213</td>\n",
       "      <td>0.026556</td>\n",
       "      <td>-1.114356</td>\n",
       "      <td>-0.639481</td>\n",
       "      <td>0.294351</td>\n",
       "      <td>...</td>\n",
       "      <td>-0.586302</td>\n",
       "      <td>-0.514496</td>\n",
       "      <td>-0.586302</td>\n",
       "      <td>-0.402694</td>\n",
       "      <td>-0.658281</td>\n",
       "      <td>-0.769800</td>\n",
       "      <td>-0.220863</td>\n",
       "      <td>-0.154303</td>\n",
       "      <td>-0.273861</td>\n",
       "      <td>-0.514496</td>\n",
       "    </tr>\n",
       "    <tr>\n",
       "      <th>3</th>\n",
       "      <td>0.302534</td>\n",
       "      <td>-1.427511</td>\n",
       "      <td>0.638317</td>\n",
       "      <td>1.192840</td>\n",
       "      <td>1.124591</td>\n",
       "      <td>1.236213</td>\n",
       "      <td>0.026556</td>\n",
       "      <td>-0.243132</td>\n",
       "      <td>-0.639481</td>\n",
       "      <td>-0.760407</td>\n",
       "      <td>...</td>\n",
       "      <td>-0.586302</td>\n",
       "      <td>1.943651</td>\n",
       "      <td>1.705606</td>\n",
       "      <td>2.483277</td>\n",
       "      <td>-0.658281</td>\n",
       "      <td>1.299038</td>\n",
       "      <td>-0.220863</td>\n",
       "      <td>-0.154303</td>\n",
       "      <td>-0.273861</td>\n",
       "      <td>-0.514496</td>\n",
       "    </tr>\n",
       "    <tr>\n",
       "      <th>4</th>\n",
       "      <td>-0.307261</td>\n",
       "      <td>-1.427511</td>\n",
       "      <td>-0.806296</td>\n",
       "      <td>-0.818615</td>\n",
       "      <td>0.000000</td>\n",
       "      <td>-1.561532</td>\n",
       "      <td>1.168462</td>\n",
       "      <td>0.628092</td>\n",
       "      <td>1.134563</td>\n",
       "      <td>-0.760407</td>\n",
       "      <td>...</td>\n",
       "      <td>-0.586302</td>\n",
       "      <td>-0.514496</td>\n",
       "      <td>1.705606</td>\n",
       "      <td>-0.402694</td>\n",
       "      <td>-0.658281</td>\n",
       "      <td>-0.769800</td>\n",
       "      <td>-0.220863</td>\n",
       "      <td>-0.154303</td>\n",
       "      <td>-0.273861</td>\n",
       "      <td>-0.514496</td>\n",
       "    </tr>\n",
       "  </tbody>\n",
       "</table>\n",
       "<p>5 rows × 59 columns</p>\n",
       "</div>"
      ],
      "text/plain": [
       "      Alter  Sportlichkeit  Gesunde_Ernaehrung  Essen_gehen    Kochen  \\\n",
       "0 -1.323585       1.591324           -0.806296     1.192840 -1.124591   \n",
       "1 -0.307261      -1.427511           -0.806296     0.187112  0.000000   \n",
       "2 -1.526850       1.591324           -0.806296     0.187112 -1.124591   \n",
       "3  0.302534      -1.427511            0.638317     1.192840  1.124591   \n",
       "4 -0.307261      -1.427511           -0.806296    -0.818615  0.000000   \n",
       "\n",
       "     Feiern     Musik     Lesen  Darstellende_Kunst     Filme  ...      Yoga  \\\n",
       "0 -1.561532  0.026556  1.499316            1.134563  1.349109  ... -0.586302   \n",
       "1  0.303631  0.026556 -0.243132            1.134563  1.349109  ... -0.586302   \n",
       "2  1.236213  0.026556 -1.114356           -0.639481  0.294351  ... -0.586302   \n",
       "3  1.236213  0.026556 -0.243132           -0.639481 -0.760407  ... -0.586302   \n",
       "4 -1.561532  1.168462  0.628092            1.134563 -0.760407  ... -0.586302   \n",
       "\n",
       "   Kampfsport    Tanzen  Leichtathletik  Bouldern/Klettern  Schwimmen  \\\n",
       "0   -0.514496  1.705606        2.483277           1.519109  -0.769800   \n",
       "1   -0.514496  1.705606       -0.402694          -0.658281   1.299038   \n",
       "2   -0.514496 -0.586302       -0.402694          -0.658281  -0.769800   \n",
       "3    1.943651  1.705606        2.483277          -0.658281   1.299038   \n",
       "4   -0.514496  1.705606       -0.402694          -0.658281  -0.769800   \n",
       "\n",
       "   Wassersport    Reiten  Wintersport  Rennrad/Mountainbike  \n",
       "0    -0.220863 -0.154303    -0.273861             -0.514496  \n",
       "1    -0.220863 -0.154303    -0.273861             -0.514496  \n",
       "2    -0.220863 -0.154303    -0.273861             -0.514496  \n",
       "3    -0.220863 -0.154303    -0.273861             -0.514496  \n",
       "4    -0.220863 -0.154303    -0.273861             -0.514496  \n",
       "\n",
       "[5 rows x 59 columns]"
      ]
     },
     "execution_count": 60,
     "metadata": {},
     "output_type": "execute_result"
    }
   ],
   "source": [
    "X_train_scaled.head()"
   ]
  },
  {
   "cell_type": "code",
   "execution_count": 61,
   "metadata": {},
   "outputs": [
    {
     "data": {
      "text/html": [
       "<style>#sk-container-id-1 {color: black;background-color: white;}#sk-container-id-1 pre{padding: 0;}#sk-container-id-1 div.sk-toggleable {background-color: white;}#sk-container-id-1 label.sk-toggleable__label {cursor: pointer;display: block;width: 100%;margin-bottom: 0;padding: 0.3em;box-sizing: border-box;text-align: center;}#sk-container-id-1 label.sk-toggleable__label-arrow:before {content: \"▸\";float: left;margin-right: 0.25em;color: #696969;}#sk-container-id-1 label.sk-toggleable__label-arrow:hover:before {color: black;}#sk-container-id-1 div.sk-estimator:hover label.sk-toggleable__label-arrow:before {color: black;}#sk-container-id-1 div.sk-toggleable__content {max-height: 0;max-width: 0;overflow: hidden;text-align: left;background-color: #f0f8ff;}#sk-container-id-1 div.sk-toggleable__content pre {margin: 0.2em;color: black;border-radius: 0.25em;background-color: #f0f8ff;}#sk-container-id-1 input.sk-toggleable__control:checked~div.sk-toggleable__content {max-height: 200px;max-width: 100%;overflow: auto;}#sk-container-id-1 input.sk-toggleable__control:checked~label.sk-toggleable__label-arrow:before {content: \"▾\";}#sk-container-id-1 div.sk-estimator input.sk-toggleable__control:checked~label.sk-toggleable__label {background-color: #d4ebff;}#sk-container-id-1 div.sk-label input.sk-toggleable__control:checked~label.sk-toggleable__label {background-color: #d4ebff;}#sk-container-id-1 input.sk-hidden--visually {border: 0;clip: rect(1px 1px 1px 1px);clip: rect(1px, 1px, 1px, 1px);height: 1px;margin: -1px;overflow: hidden;padding: 0;position: absolute;width: 1px;}#sk-container-id-1 div.sk-estimator {font-family: monospace;background-color: #f0f8ff;border: 1px dotted black;border-radius: 0.25em;box-sizing: border-box;margin-bottom: 0.5em;}#sk-container-id-1 div.sk-estimator:hover {background-color: #d4ebff;}#sk-container-id-1 div.sk-parallel-item::after {content: \"\";width: 100%;border-bottom: 1px solid gray;flex-grow: 1;}#sk-container-id-1 div.sk-label:hover label.sk-toggleable__label {background-color: #d4ebff;}#sk-container-id-1 div.sk-serial::before {content: \"\";position: absolute;border-left: 1px solid gray;box-sizing: border-box;top: 0;bottom: 0;left: 50%;z-index: 0;}#sk-container-id-1 div.sk-serial {display: flex;flex-direction: column;align-items: center;background-color: white;padding-right: 0.2em;padding-left: 0.2em;position: relative;}#sk-container-id-1 div.sk-item {position: relative;z-index: 1;}#sk-container-id-1 div.sk-parallel {display: flex;align-items: stretch;justify-content: center;background-color: white;position: relative;}#sk-container-id-1 div.sk-item::before, #sk-container-id-1 div.sk-parallel-item::before {content: \"\";position: absolute;border-left: 1px solid gray;box-sizing: border-box;top: 0;bottom: 0;left: 50%;z-index: -1;}#sk-container-id-1 div.sk-parallel-item {display: flex;flex-direction: column;z-index: 1;position: relative;background-color: white;}#sk-container-id-1 div.sk-parallel-item:first-child::after {align-self: flex-end;width: 50%;}#sk-container-id-1 div.sk-parallel-item:last-child::after {align-self: flex-start;width: 50%;}#sk-container-id-1 div.sk-parallel-item:only-child::after {width: 0;}#sk-container-id-1 div.sk-dashed-wrapped {border: 1px dashed gray;margin: 0 0.4em 0.5em 0.4em;box-sizing: border-box;padding-bottom: 0.4em;background-color: white;}#sk-container-id-1 div.sk-label label {font-family: monospace;font-weight: bold;display: inline-block;line-height: 1.2em;}#sk-container-id-1 div.sk-label-container {text-align: center;}#sk-container-id-1 div.sk-container {/* jupyter's `normalize.less` sets `[hidden] { display: none; }` but bootstrap.min.css set `[hidden] { display: none !important; }` so we also need the `!important` here to be able to override the default hidden behavior on the sphinx rendered scikit-learn.org. See: https://github.com/scikit-learn/scikit-learn/issues/21755 */display: inline-block !important;position: relative;}#sk-container-id-1 div.sk-text-repr-fallback {display: none;}</style><div id=\"sk-container-id-1\" class=\"sk-top-container\"><div class=\"sk-text-repr-fallback\"><pre>KNeighborsClassifier(n_neighbors=2)</pre><b>In a Jupyter environment, please rerun this cell to show the HTML representation or trust the notebook. <br />On GitHub, the HTML representation is unable to render, please try loading this page with nbviewer.org.</b></div><div class=\"sk-container\" hidden><div class=\"sk-item\"><div class=\"sk-estimator sk-toggleable\"><input class=\"sk-toggleable__control sk-hidden--visually\" id=\"sk-estimator-id-1\" type=\"checkbox\" checked><label for=\"sk-estimator-id-1\" class=\"sk-toggleable__label sk-toggleable__label-arrow\">KNeighborsClassifier</label><div class=\"sk-toggleable__content\"><pre>KNeighborsClassifier(n_neighbors=2)</pre></div></div></div></div></div>"
      ],
      "text/plain": [
       "KNeighborsClassifier(n_neighbors=2)"
      ]
     },
     "execution_count": 61,
     "metadata": {},
     "output_type": "execute_result"
    }
   ],
   "source": [
    "from sklearn.neighbors import KNeighborsClassifier\n",
    "\n",
    "knn = KNeighborsClassifier(n_neighbors=2)  # specify your model parameters\n",
    "knn.fit(X_train_scaled,y_train)  # train the model using data and labels"
   ]
  },
  {
   "cell_type": "code",
   "execution_count": 62,
   "metadata": {},
   "outputs": [
    {
     "name": "stderr",
     "output_type": "stream",
     "text": [
      "Exception ignored on calling ctypes callback function: <function _ThreadpoolInfo._find_modules_with_dl_iterate_phdr.<locals>.match_module_callback at 0x7f3a02fc2050>\n",
      "Traceback (most recent call last):\n",
      "  File \"/home/julian/devel/anaconda3/envs/data_science/lib/python3.10/site-packages/threadpoolctl.py\", line 400, in match_module_callback\n",
      "    self._make_module_from_path(filepath)\n",
      "  File \"/home/julian/devel/anaconda3/envs/data_science/lib/python3.10/site-packages/threadpoolctl.py\", line 515, in _make_module_from_path\n",
      "    module = module_class(filepath, prefix, user_api, internal_api)\n",
      "  File \"/home/julian/devel/anaconda3/envs/data_science/lib/python3.10/site-packages/threadpoolctl.py\", line 606, in __init__\n",
      "    self.version = self.get_version()\n",
      "  File \"/home/julian/devel/anaconda3/envs/data_science/lib/python3.10/site-packages/threadpoolctl.py\", line 646, in get_version\n",
      "    config = get_config().split()\n",
      "AttributeError: 'NoneType' object has no attribute 'split'\n"
     ]
    },
    {
     "data": {
      "text/plain": [
       "array(['Extrovertiert', 'Extrovertiert', 'Extrovertiert', 'Extrovertiert',\n",
       "       'Extrovertiert', 'Extrovertiert', 'Extrovertiert', 'Extrovertiert',\n",
       "       'Extrovertiert', 'Extrovertiert', 'Extrovertiert', 'Extrovertiert',\n",
       "       'Extrovertiert', 'Extrovertiert', 'Extrovertiert', 'Extrovertiert',\n",
       "       'Introvertiert', 'Extrovertiert', 'Extrovertiert'], dtype=object)"
      ]
     },
     "execution_count": 62,
     "metadata": {},
     "output_type": "execute_result"
    }
   ],
   "source": [
    "prediction = knn.predict(X_test_scaled)\n",
    "prediction"
   ]
  },
  {
   "cell_type": "code",
   "execution_count": 63,
   "metadata": {},
   "outputs": [
    {
     "data": {
      "text/plain": [
       "array([[11,  0],\n",
       "       [ 7,  1]])"
      ]
     },
     "execution_count": 63,
     "metadata": {},
     "output_type": "execute_result"
    }
   ],
   "source": [
    "from sklearn.metrics import confusion_matrix\n",
    "\n",
    "confusion_matrix(y_test, prediction)"
   ]
  },
  {
   "cell_type": "code",
   "execution_count": 64,
   "metadata": {},
   "outputs": [
    {
     "data": {
      "text/plain": [
       "array(['Extrovertiert', 'Introvertiert'], dtype=object)"
      ]
     },
     "execution_count": 64,
     "metadata": {},
     "output_type": "execute_result"
    }
   ],
   "source": [
    "knn.classes_"
   ]
  },
  {
   "cell_type": "code",
   "execution_count": 65,
   "metadata": {},
   "outputs": [
    {
     "data": {
      "text/plain": [
       "<AxesSubplot:>"
      ]
     },
     "execution_count": 65,
     "metadata": {},
     "output_type": "execute_result"
    },
    {
     "data": {
      "image/png": "[encoded data removed]",
      "text/plain": [
       "<Figure size 500x500 with 1 Axes>"
      ]
     },
     "metadata": {},
     "output_type": "display_data"
    }
   ],
   "source": [
    "fig, ax = plt.subplots(figsize=(5, 5))\n",
    "\n",
    "sb.heatmap(confusion_matrix(y_test, prediction),\n",
    "           annot=True, cmap=\"viridis\", cbar=False,\n",
    "           xticklabels=knn.classes_,\n",
    "           yticklabels=knn.classes_)"
   ]
  },
  {
   "cell_type": "code",
   "execution_count": 66,
   "metadata": {},
   "outputs": [
    {
     "data": {
      "text/html": [
       "<style>#sk-container-id-2 {color: black;background-color: white;}#sk-container-id-2 pre{padding: 0;}#sk-container-id-2 div.sk-toggleable {background-color: white;}#sk-container-id-2 label.sk-toggleable__label {cursor: pointer;display: block;width: 100%;margin-bottom: 0;padding: 0.3em;box-sizing: border-box;text-align: center;}#sk-container-id-2 label.sk-toggleable__label-arrow:before {content: \"▸\";float: left;margin-right: 0.25em;color: #696969;}#sk-container-id-2 label.sk-toggleable__label-arrow:hover:before {color: black;}#sk-container-id-2 div.sk-estimator:hover label.sk-toggleable__label-arrow:before {color: black;}#sk-container-id-2 div.sk-toggleable__content {max-height: 0;max-width: 0;overflow: hidden;text-align: left;background-color: #f0f8ff;}#sk-container-id-2 div.sk-toggleable__content pre {margin: 0.2em;color: black;border-radius: 0.25em;background-color: #f0f8ff;}#sk-container-id-2 input.sk-toggleable__control:checked~div.sk-toggleable__content {max-height: 200px;max-width: 100%;overflow: auto;}#sk-container-id-2 input.sk-toggleable__control:checked~label.sk-toggleable__label-arrow:before {content: \"▾\";}#sk-container-id-2 div.sk-estimator input.sk-toggleable__control:checked~label.sk-toggleable__label {background-color: #d4ebff;}#sk-container-id-2 div.sk-label input.sk-toggleable__control:checked~label.sk-toggleable__label {background-color: #d4ebff;}#sk-container-id-2 input.sk-hidden--visually {border: 0;clip: rect(1px 1px 1px 1px);clip: rect(1px, 1px, 1px, 1px);height: 1px;margin: -1px;overflow: hidden;padding: 0;position: absolute;width: 1px;}#sk-container-id-2 div.sk-estimator {font-family: monospace;background-color: #f0f8ff;border: 1px dotted black;border-radius: 0.25em;box-sizing: border-box;margin-bottom: 0.5em;}#sk-container-id-2 div.sk-estimator:hover {background-color: #d4ebff;}#sk-container-id-2 div.sk-parallel-item::after {content: \"\";width: 100%;border-bottom: 1px solid gray;flex-grow: 1;}#sk-container-id-2 div.sk-label:hover label.sk-toggleable__label {background-color: #d4ebff;}#sk-container-id-2 div.sk-serial::before {content: \"\";position: absolute;border-left: 1px solid gray;box-sizing: border-box;top: 0;bottom: 0;left: 50%;z-index: 0;}#sk-container-id-2 div.sk-serial {display: flex;flex-direction: column;align-items: center;background-color: white;padding-right: 0.2em;padding-left: 0.2em;position: relative;}#sk-container-id-2 div.sk-item {position: relative;z-index: 1;}#sk-container-id-2 div.sk-parallel {display: flex;align-items: stretch;justify-content: center;background-color: white;position: relative;}#sk-container-id-2 div.sk-item::before, #sk-container-id-2 div.sk-parallel-item::before {content: \"\";position: absolute;border-left: 1px solid gray;box-sizing: border-box;top: 0;bottom: 0;left: 50%;z-index: -1;}#sk-container-id-2 div.sk-parallel-item {display: flex;flex-direction: column;z-index: 1;position: relative;background-color: white;}#sk-container-id-2 div.sk-parallel-item:first-child::after {align-self: flex-end;width: 50%;}#sk-container-id-2 div.sk-parallel-item:last-child::after {align-self: flex-start;width: 50%;}#sk-container-id-2 div.sk-parallel-item:only-child::after {width: 0;}#sk-container-id-2 div.sk-dashed-wrapped {border: 1px dashed gray;margin: 0 0.4em 0.5em 0.4em;box-sizing: border-box;padding-bottom: 0.4em;background-color: white;}#sk-container-id-2 div.sk-label label {font-family: monospace;font-weight: bold;display: inline-block;line-height: 1.2em;}#sk-container-id-2 div.sk-label-container {text-align: center;}#sk-container-id-2 div.sk-container {/* jupyter's `normalize.less` sets `[hidden] { display: none; }` but bootstrap.min.css set `[hidden] { display: none !important; }` so we also need the `!important` here to be able to override the default hidden behavior on the sphinx rendered scikit-learn.org. See: https://github.com/scikit-learn/scikit-learn/issues/21755 */display: inline-block !important;position: relative;}#sk-container-id-2 div.sk-text-repr-fallback {display: none;}</style><div id=\"sk-container-id-2\" class=\"sk-top-container\"><div class=\"sk-text-repr-fallback\"><pre>DecisionTreeClassifier(max_depth=3, random_state=0)</pre><b>In a Jupyter environment, please rerun this cell to show the HTML representation or trust the notebook. <br />On GitHub, the HTML representation is unable to render, please try loading this page with nbviewer.org.</b></div><div class=\"sk-container\" hidden><div class=\"sk-item\"><div class=\"sk-estimator sk-toggleable\"><input class=\"sk-toggleable__control sk-hidden--visually\" id=\"sk-estimator-id-2\" type=\"checkbox\" checked><label for=\"sk-estimator-id-2\" class=\"sk-toggleable__label sk-toggleable__label-arrow\">DecisionTreeClassifier</label><div class=\"sk-toggleable__content\"><pre>DecisionTreeClassifier(max_depth=3, random_state=0)</pre></div></div></div></div></div>"
      ],
      "text/plain": [
       "DecisionTreeClassifier(max_depth=3, random_state=0)"
      ]
     },
     "execution_count": 66,
     "metadata": {},
     "output_type": "execute_result"
    }
   ],
   "source": [
    "from sklearn.tree import DecisionTreeClassifier\n",
    "\n",
    "tree = DecisionTreeClassifier(max_depth=3, random_state=0)\n",
    "tree.fit(x_train,y_train)"
   ]
  },
  {
   "cell_type": "code",
   "execution_count": 67,
   "metadata": {},
   "outputs": [
    {
     "data": {
      "text/plain": [
       "array(['Introvertiert', 'Introvertiert', 'Introvertiert', 'Introvertiert',\n",
       "       'Introvertiert', 'Introvertiert', 'Introvertiert', 'Introvertiert',\n",
       "       'Introvertiert', 'Introvertiert', 'Introvertiert', 'Introvertiert',\n",
       "       'Introvertiert', 'Introvertiert', 'Introvertiert', 'Introvertiert',\n",
       "       'Introvertiert', 'Introvertiert', 'Introvertiert'], dtype=object)"
      ]
     },
     "execution_count": 67,
     "metadata": {},
     "output_type": "execute_result"
    }
   ],
   "source": [
    "prediction = tree.predict(X_test_scaled)\n",
    "prediction"
   ]
  },
  {
   "cell_type": "code",
   "execution_count": 68,
   "metadata": {},
   "outputs": [
    {
     "data": {
      "text/plain": [
       "<AxesSubplot:>"
      ]
     },
     "execution_count": 68,
     "metadata": {},
     "output_type": "execute_result"
    },
    {
     "data": {
      "image/png": "[encoded data removed]",
      "text/plain": [
       "<Figure size 500x500 with 1 Axes>"
      ]
     },
     "metadata": {},
     "output_type": "display_data"
    }
   ],
   "source": [
    "fig, ax = plt.subplots(figsize=(5, 5))\n",
    "\n",
    "sb.heatmap(confusion_matrix(y_test, prediction),\n",
    "           annot=True, cmap=\"viridis\", cbar=False,\n",
    "           xticklabels=tree.classes_,\n",
    "           yticklabels=tree.classes_)"
   ]
  },
  {
   "cell_type": "code",
   "execution_count": 69,
   "metadata": {},
   "outputs": [
    {
     "data": {
      "text/plain": [
       "Index(['Alter', 'Sportlichkeit', 'Gesunde_Ernaehrung', 'Essen_gehen', 'Kochen',\n",
       "       'Feiern', 'Musik', 'Lesen', 'Darstellende_Kunst', 'Filme',\n",
       "       'Bildende_Kunst', 'Museen', 'Videospiele', 'Soziale_Medien',\n",
       "       'Technologie', 'Astronomie', 'Naturwissenschaften',\n",
       "       'Soziales_Engagement', 'Soziale_Gerechtigkeit',\n",
       "       'Introvertiert_Extrovertiert', 'FOMO', 'Spontan', 'Verwirrt',\n",
       "       'Glücklich', 'Geduldig', 'Streitlustig', 'Abenteuerlustig',\n",
       "       'Studium_Zweifel', 'Studium_Zufriedenheit', 'Akademische_Laufbahn',\n",
       "       'Lerngruppe', 'Prokrastination', 'Abgaben_spaet',\n",
       "       'Neugier_Lebensmittel', 'Natur', 'Verreisen', 'Handwerk',\n",
       "       'Sprachnachrichten', 'Geld', 'Geschlecht_num', 'Position_num',\n",
       "       'Studiengang_num', 'Basketball', 'Fußball', 'Handball', 'Football',\n",
       "       'Hockey', 'Volleyball', 'Tennis', 'Yoga', 'Kampfsport', 'Tanzen',\n",
       "       'Leichtathletik', 'Bouldern/Klettern', 'Schwimmen', 'Wassersport',\n",
       "       'Reiten', 'Wintersport', 'Rennrad/Mountainbike'],\n",
       "      dtype='object')"
      ]
     },
     "execution_count": 69,
     "metadata": {},
     "output_type": "execute_result"
    }
   ],
   "source": [
    "x_train.columns"
   ]
  }
 ],
 "metadata": {
  "kernelspec": {
   "display_name": "Python 3 (ipykernel)",
   "language": "python",
   "name": "python3"
  },
  "language_info": {
   "codemirror_mode": {
    "name": "ipython",
    "version": 3
   },
   "file_extension": ".py",
   "mimetype": "text/x-python",
   "name": "python",
   "nbconvert_exporter": "python",
   "pygments_lexer": "ipython3",
   "version": "3.9.16"
  }
 },
 "nbformat": 4,
 "nbformat_minor": 2
}
